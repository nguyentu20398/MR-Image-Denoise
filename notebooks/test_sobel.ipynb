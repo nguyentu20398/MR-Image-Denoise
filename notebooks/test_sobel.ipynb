{
 "cells": [
  {
   "cell_type": "code",
   "execution_count": 2,
   "metadata": {},
   "outputs": [],
   "source": [
    "import torch\n",
    "import torch.nn.functional as F\n",
    "from torch import Tensor\n",
    "from torch.nn.functional import mse_loss"
   ]
  },
  {
   "cell_type": "code",
   "execution_count": 12,
   "metadata": {},
   "outputs": [
    {
     "name": "stdout",
     "output_type": "stream",
     "text": [
      "tensor([[[[ 0.,  1.,  2.,  3.,  4.],\n",
      "          [ 5.,  6.,  7.,  8.,  9.],\n",
      "          [10., 11., 12., 13., 14.],\n",
      "          [15., 16., 17., 18., 19.],\n",
      "          [20., 21., 22., 23., 24.]]],\n",
      "\n",
      "\n",
      "        [[[25., 26., 27., 28., 29.],\n",
      "          [30., 31., 32., 33., 34.],\n",
      "          [35., 36., 37., 38., 39.],\n",
      "          [40., 41., 42., 43., 44.],\n",
      "          [45., 46., 47., 48., 49.]]]])\n"
     ]
    }
   ],
   "source": [
    "image = torch.arange(0, 1 * 2 * 5 * 5, dtype=torch.float32)\n",
    "image = torch.reshape(image, (2, 1, 5, 5))\n",
    "print(image)"
   ]
  },
  {
   "cell_type": "code",
   "execution_count": 13,
   "metadata": {},
   "outputs": [
    {
     "name": "stdout",
     "output_type": "stream",
     "text": [
      "tensor([[[-1.,  0.,  1.],\n",
      "         [-2.,  0.,  2.],\n",
      "         [-1.,  0.,  1.]],\n",
      "\n",
      "        [[-1., -2., -1.],\n",
      "         [ 0.,  0.,  0.],\n",
      "         [ 1.,  2.,  1.]]])\n",
      "torch.Size([2, 3, 3])\n",
      "torch.Size([2, 1, 3, 3])\n"
     ]
    }
   ],
   "source": [
    "def get_sobel_kernel_3x3() -> Tensor:\n",
    "    \"\"\"Utility function that returns a sobel kernel of 3x3.\"\"\"\n",
    "    return torch.tensor([[-1.0, 0.0, 1.0], [-2.0, 0.0, 2.0], [-1.0, 0.0, 1.0]])\n",
    "\n",
    "\n",
    "def get_sobel_kernel2d() -> Tensor:\n",
    "    kernel_x = get_sobel_kernel_3x3()\n",
    "    kernel_y = kernel_x.transpose(0, 1)\n",
    "    return torch.stack([kernel_x, kernel_y])\n",
    "\n",
    "\n",
    "sobel_kernels = get_sobel_kernel2d()\n",
    "print(sobel_kernels)\n",
    "print(sobel_kernels.shape)\n",
    "tmp_kernel = sobel_kernels[:, None, ...]\n",
    "print(tmp_kernel.shape)"
   ]
  },
  {
   "cell_type": "code",
   "execution_count": 14,
   "metadata": {},
   "outputs": [],
   "source": [
    "def spatial_gradient(input: Tensor) -> Tensor:\n",
    "    r\"\"\"\n",
    "    Args:\n",
    "        input: input image tensor with shape :math:`(B, C, H, W)`.\n",
    "        mode: derivatives modality, can be: `sobel` or `diff`.\n",
    "        order: the order of the derivatives.\n",
    "        normalized: whether the output is normalized.\n",
    "\n",
    "    Return:\n",
    "        the derivatives of the input feature map. with shape :math:`(B, C, 2, H, W)`\n",
    "    \"\"\"\n",
    "\n",
    "    kernel = get_sobel_kernel2d()\n",
    "\n",
    "    # prepare kernel\n",
    "    b, c, h, w = input.shape\n",
    "    tmp_kernel = kernel[:, None, ...]\n",
    "    # print(tmp_kernel)\n",
    "    # Pad with \"replicate for spatial dims, but with zeros for channel\n",
    "    spatial_pad = [\n",
    "        kernel.size(1) // 2,\n",
    "        kernel.size(1) // 2,\n",
    "        kernel.size(2) // 2,\n",
    "        kernel.size(2) // 2,\n",
    "    ]\n",
    "    # print(spatial_pad)\n",
    "    out_channels = 2\n",
    "    # print(input.reshape(b * c, 1, h, w))\n",
    "    padded_inp = F.pad(input.reshape(b * c, 1, h, w), spatial_pad, \"replicate\")\n",
    "    # print(padded_inp)\n",
    "    out = F.conv2d(padded_inp, tmp_kernel, groups=1, padding=0, stride=1)\n",
    "    return out.reshape(b, c, out_channels, h, w)"
   ]
  },
  {
   "cell_type": "code",
   "execution_count": 15,
   "metadata": {},
   "outputs": [
    {
     "data": {
      "text/plain": [
       "tensor([[[[[ 4.,  8.,  8.,  8.,  4.],\n",
       "           [ 4.,  8.,  8.,  8.,  4.],\n",
       "           [ 4.,  8.,  8.,  8.,  4.],\n",
       "           [ 4.,  8.,  8.,  8.,  4.],\n",
       "           [ 4.,  8.,  8.,  8.,  4.]],\n",
       "\n",
       "          [[20., 20., 20., 20., 20.],\n",
       "           [40., 40., 40., 40., 40.],\n",
       "           [40., 40., 40., 40., 40.],\n",
       "           [40., 40., 40., 40., 40.],\n",
       "           [20., 20., 20., 20., 20.]]]],\n",
       "\n",
       "\n",
       "\n",
       "        [[[[ 4.,  8.,  8.,  8.,  4.],\n",
       "           [ 4.,  8.,  8.,  8.,  4.],\n",
       "           [ 4.,  8.,  8.,  8.,  4.],\n",
       "           [ 4.,  8.,  8.,  8.,  4.],\n",
       "           [ 4.,  8.,  8.,  8.,  4.]],\n",
       "\n",
       "          [[20., 20., 20., 20., 20.],\n",
       "           [40., 40., 40., 40., 40.],\n",
       "           [40., 40., 40., 40., 40.],\n",
       "           [40., 40., 40., 40., 40.],\n",
       "           [20., 20., 20., 20., 20.]]]]])"
      ]
     },
     "execution_count": 15,
     "metadata": {},
     "output_type": "execute_result"
    }
   ],
   "source": [
    "spatial_gradient(image)"
   ]
  },
  {
   "cell_type": "code",
   "execution_count": 16,
   "metadata": {},
   "outputs": [],
   "source": [
    "def sobel(input: Tensor, eps: float = 1e-6) -> Tensor:\n",
    "    r\"\"\"\n",
    "\n",
    "    Args:\n",
    "        input: the input image with shape :math:`(B,C,H,W)`.\n",
    "        normalized: if True, L1 norm of the kernel is set to 1.\n",
    "        eps: regularization number to avoid NaN during backprop.\n",
    "\n",
    "    Return:\n",
    "        the sobel edge gradient magnitudes map with shape :math:`(B,C,H,W)`.\n",
    "    \"\"\"\n",
    "    if not len(input.shape) == 4:\n",
    "        raise ValueError(f\"Invalid input shape, we expect BxCxHxW. Got: {input.shape}\")\n",
    "\n",
    "    # comput the x/y gradients\n",
    "    edges = spatial_gradient(input)\n",
    "\n",
    "    # unpack the edges\n",
    "    gx = edges[:, :, 0]\n",
    "    gy = edges[:, :, 1]\n",
    "\n",
    "    # compute gradient maginitude\n",
    "    magnitude = torch.sqrt(gx * gx + gy * gy + eps)\n",
    "\n",
    "    return magnitude"
   ]
  },
  {
   "cell_type": "code",
   "execution_count": null,
   "metadata": {},
   "outputs": [],
   "source": [
    "sobel(image).shape"
   ]
  },
  {
   "cell_type": "code",
   "execution_count": 3,
   "metadata": {},
   "outputs": [
    {
     "name": "stdout",
     "output_type": "stream",
     "text": [
      "torch.Size([2, 1, 5, 5])\n",
      "torch.Size([2, 1, 5, 5])\n",
      "torch.Size([])\n",
      "1.8520668745040894\n"
     ]
    },
    {
     "ename": "TypeError",
     "evalue": "can't convert cuda:0 device type tensor to numpy. Use Tensor.cpu() to copy the tensor to host memory first.",
     "output_type": "error",
     "traceback": [
      "\u001B[0;31m---------------------------------------------------------------------------\u001B[0m",
      "\u001B[0;31mTypeError\u001B[0m                                 Traceback (most recent call last)",
      "\u001B[0;32m/tmp/ipykernel_23969/3498993016.py\u001B[0m in \u001B[0;36m<module>\u001B[0;34m\u001B[0m\n\u001B[1;32m      8\u001B[0m \u001B[0mprint\u001B[0m\u001B[0;34m(\u001B[0m\u001B[0mdistance\u001B[0m\u001B[0;34m.\u001B[0m\u001B[0mitem\u001B[0m\u001B[0;34m(\u001B[0m\u001B[0;34m)\u001B[0m\u001B[0;34m)\u001B[0m\u001B[0;34m\u001B[0m\u001B[0;34m\u001B[0m\u001B[0m\n\u001B[1;32m      9\u001B[0m \u001B[0;32mimport\u001B[0m \u001B[0mnumpy\u001B[0m \u001B[0;32mas\u001B[0m \u001B[0mnp\u001B[0m\u001B[0;34m\u001B[0m\u001B[0;34m\u001B[0m\u001B[0m\n\u001B[0;32m---> 10\u001B[0;31m \u001B[0md\u001B[0m \u001B[0;34m=\u001B[0m \u001B[0;34m(\u001B[0m\u001B[0mnp\u001B[0m\u001B[0;34m.\u001B[0m\u001B[0msquare\u001B[0m\u001B[0;34m(\u001B[0m\u001B[0minput\u001B[0m\u001B[0;34m.\u001B[0m\u001B[0mnumpy\u001B[0m\u001B[0;34m(\u001B[0m\u001B[0;34m)\u001B[0m \u001B[0;34m-\u001B[0m \u001B[0moutput\u001B[0m\u001B[0;34m.\u001B[0m\u001B[0mnumpy\u001B[0m\u001B[0;34m(\u001B[0m\u001B[0;34m)\u001B[0m\u001B[0;34m)\u001B[0m\u001B[0;34m)\u001B[0m\u001B[0;34m.\u001B[0m\u001B[0mmean\u001B[0m\u001B[0;34m(\u001B[0m\u001B[0maxis\u001B[0m\u001B[0;34m=\u001B[0m\u001B[0;32mNone\u001B[0m\u001B[0;34m)\u001B[0m\u001B[0;34m\u001B[0m\u001B[0;34m\u001B[0m\u001B[0m\n\u001B[0m\u001B[1;32m     11\u001B[0m \u001B[0mprint\u001B[0m\u001B[0;34m(\u001B[0m\u001B[0md\u001B[0m\u001B[0;34m)\u001B[0m\u001B[0;34m\u001B[0m\u001B[0;34m\u001B[0m\u001B[0m\n\u001B[1;32m     12\u001B[0m \u001B[0;31m# s = sobel(output)\u001B[0m\u001B[0;34m\u001B[0m\u001B[0;34m\u001B[0m\u001B[0;34m\u001B[0m\u001B[0m\n",
      "\u001B[0;31mTypeError\u001B[0m: can't convert cuda:0 device type tensor to numpy. Use Tensor.cpu() to copy the tensor to host memory first."
     ]
    }
   ],
   "source": [
    "input = torch.randn((2, 1, 5, 5)).cuda()\n",
    "output = torch.randn((2, 1, 5, 5)).cuda()\n",
    "distance = mse_loss(input, output, reduction=\"mean\")\n",
    "\n",
    "print(input.shape)\n",
    "print(output.shape)\n",
    "print(distance.shape)\n",
    "print(distance.item())\n",
    "import numpy as np\n",
    "\n",
    "d = (np.square(input.numpy() - output.numpy())).mean(axis=None)\n",
    "print(d)\n",
    "# s = sobel(output)"
   ]
  },
  {
   "cell_type": "code",
   "execution_count": 19,
   "metadata": {},
   "outputs": [
    {
     "data": {
      "text/plain": [
       "torch.Size([2, 1, 5, 5])"
      ]
     },
     "execution_count": 19,
     "metadata": {},
     "output_type": "execute_result"
    }
   ],
   "source": [
    "s.shape"
   ]
  },
  {
   "cell_type": "code",
   "execution_count": 20,
   "metadata": {},
   "outputs": [
    {
     "data": {
      "text/plain": [
       "tensor([[[[ 0.,  1.,  2.,  3.,  4.],\n",
       "          [ 5.,  6.,  7.,  8.,  9.],\n",
       "          [10., 11., 12., 13., 14.],\n",
       "          [15., 16., 17., 18., 19.],\n",
       "          [20., 21., 22., 23., 24.]]],\n",
       "\n",
       "\n",
       "        [[[25., 26., 27., 28., 29.],\n",
       "          [30., 31., 32., 33., 34.],\n",
       "          [35., 36., 37., 38., 39.],\n",
       "          [40., 41., 42., 43., 44.],\n",
       "          [45., 46., 47., 48., 49.]]]])"
      ]
     },
     "execution_count": 20,
     "metadata": {},
     "output_type": "execute_result"
    }
   ],
   "source": [
    "image"
   ]
  },
  {
   "cell_type": "code",
   "execution_count": 29,
   "metadata": {},
   "outputs": [
    {
     "data": {
      "text/plain": [
       "tensor([[[ 2.,  7., 12., 17., 22.]],\n",
       "\n",
       "        [[27., 32., 37., 42., 47.]]])"
      ]
     },
     "execution_count": 29,
     "metadata": {},
     "output_type": "execute_result"
    }
   ],
   "source": [
    "torch.mean(image)"
   ]
  },
  {
   "cell_type": "code",
   "execution_count": 32,
   "metadata": {},
   "outputs": [],
   "source": [
    "a = [i for i in range(25, 50)]\n",
    "b = [i for i in range(0, 25)]\n",
    "c = ((sum(a) / len(a)) + (sum(b) / len(b))) / 2"
   ]
  },
  {
   "cell_type": "code",
   "execution_count": 33,
   "metadata": {},
   "outputs": [
    {
     "data": {
      "text/plain": [
       "24.5"
      ]
     },
     "execution_count": 33,
     "metadata": {},
     "output_type": "execute_result"
    }
   ],
   "source": [
    "c"
   ]
  },
  {
   "cell_type": "code",
   "execution_count": null,
   "metadata": {},
   "outputs": [],
   "source": []
  }
 ],
 "metadata": {
  "kernelspec": {
   "display_name": "image-denoise",
   "language": "python",
   "name": "python3"
  },
  "language_info": {
   "codemirror_mode": {
    "name": "ipython",
    "version": 3
   },
   "file_extension": ".py",
   "mimetype": "text/x-python",
   "name": "python",
   "nbconvert_exporter": "python",
   "pygments_lexer": "ipython3",
   "version": "3.7.9"
  },
  "orig_nbformat": 4,
  "vscode": {
   "interpreter": {
    "hash": "403623d38294d2ccdd6fac6b24a44c1cd6755d7b438becf4b28bc5cf91cdfe78"
   }
  }
 },
 "nbformat": 4,
 "nbformat_minor": 2
}
