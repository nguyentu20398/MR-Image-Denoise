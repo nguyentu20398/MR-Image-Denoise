{
 "cells": [
  {
   "cell_type": "code",
   "execution_count": 1,
   "metadata": {
    "collapsed": true
   },
   "outputs": [],
   "source": [
    "import pandas as pd\n",
    "import glob\n",
    "import numpy as np\n",
    "import os\n",
    "\n",
    "if os.path.basename(os.path.normpath(os.getcwd())) == \"script\":\n",
    "    os.chdir(\"..\")"
   ]
  },
  {
   "cell_type": "code",
   "execution_count": 2,
   "metadata": {
    "collapsed": false
   },
   "outputs": [],
   "source": [
    "model_name = \"10Layers\"\n",
    "\n",
    "# folders = glob.glob(f'report/layers_{model_name}*')\n",
    "folders = [\"report/layers_Dncnn10\", \"report/layers_dnresnet10\"]"
   ]
  },
  {
   "cell_type": "code",
   "execution_count": 7,
   "metadata": {
    "collapsed": false
   },
   "outputs": [
    {
     "name": "stdout",
     "output_type": "stream",
     "text": [
      "report\\layers_Dncnn10_Trueclip_Truenormalize_sigrange3_3_test_psnr.xlsx\n",
      "   Unnamed: 0       15\n",
      "0           0  31.6727\n",
      "1           1  31.3196\n",
      "2           2  33.8049\n",
      "3           3  34.4841\n",
      "4           4  34.6049\n",
      "report\\layers_Dncnn10_Trueclip_Truenormalize_sigrange3_3_test_ssim.xlsx\n",
      "   Unnamed: 0        15\n",
      "0           0  0.881061\n",
      "1           1  0.781245\n",
      "2           2  0.805267\n",
      "3           3  0.827088\n",
      "4           4  0.831643\n",
      "report\\layers_dnresnet10_Trueclip_Truenormalize_sigrange3_3_test_psnr.xlsx\n",
      "   Unnamed: 0       15\n",
      "0           0  24.7466\n",
      "1           1  30.6722\n",
      "2           2  29.8098\n",
      "3           3  33.6711\n",
      "4           4  32.7763\n",
      "report\\layers_dnresnet10_Trueclip_Truenormalize_sigrange3_3_test_ssim.xlsx\n",
      "   Unnamed: 0        15\n",
      "0           0  0.692839\n",
      "1           1  0.891330\n",
      "2           2  0.899128\n",
      "3           3  0.869382\n",
      "4           4  0.904473\n"
     ]
    }
   ],
   "source": [
    "### Convert Tableau\n",
    "path_xlsx = f\"report/layers_{model_name}_compare.xlsx\"\n",
    "model = []\n",
    "epochs = []\n",
    "sigmas = []\n",
    "psnrs = []\n",
    "ssims = []\n",
    "for folder in folders:\n",
    "    paths = glob.glob(f\"{folder}*test_*.xlsx\")\n",
    "    for path in paths:\n",
    "        if \"ssim\" in path:\n",
    "            print(path)\n",
    "            df_ssim = pd.read_excel(path)\n",
    "            df_ssim.head()\n",
    "            print(df_ssim.head())\n",
    "\n",
    "        else:\n",
    "            print(path)\n",
    "            df_psnr = pd.read_excel(path)\n",
    "            print(df_psnr.head())\n",
    "    for epoch in df_psnr[\"Unnamed: 0\"]:\n",
    "        for sigma in df_psnr.keys()[1:].tolist():\n",
    "            psnrs.append(df_psnr[sigma][epoch])\n",
    "            ssims.append(df_ssim[sigma][epoch])\n",
    "            sigmas.append(sigma)\n",
    "            epochs.append(epoch)\n",
    "            model.append(folder.replace(r\"report\\\\layers_\", \"\"))\n",
    "new_data = pd.DataFrame()\n",
    "new_data[\"model\"] = model\n",
    "new_data[\"epochs\"] = epochs\n",
    "new_data[\"sigmas\"] = sigmas\n",
    "new_data[\"psnr\"] = psnrs\n",
    "new_data[\"ssim\"] = ssims\n",
    "new_data.to_excel(path_xlsx, index=False)\n",
    "# new_data.to_excel(writer, sheet_name = folder.split('_')[-1], index=False)\n",
    "# new_data.to_excel(writer, index=False)\n",
    "# writer.close()"
   ]
  },
  {
   "cell_type": "code",
   "execution_count": 4,
   "metadata": {
    "collapsed": false
   },
   "outputs": [
    {
     "name": "stdout",
     "output_type": "stream",
     "text": [
      "report\\layers_Dncnn10_Trueclip_Truenormalize_sigrange3_3_test_psnr.xlsx\n",
      "report\\layers_Dncnn10_Trueclip_Truenormalize_sigrange3_3_test_ssim.xlsx\n",
      "report\\layers_dnresnet10_Trueclip_Truenormalize_sigrange3_3_test_psnr.xlsx\n",
      "report\\layers_dnresnet10_Trueclip_Truenormalize_sigrange3_3_test_ssim.xlsx\n"
     ]
    }
   ],
   "source": [
    "### Merge\n",
    "path_psnr = f\"report/layers_{model_name}_psnr.xlsx\"\n",
    "path_ssim = f\"report/layers_{model_name}_ssim.xlsx\"\n",
    "\n",
    "writer_psnr = pd.ExcelWriter(path_psnr, engine=\"xlsxwriter\")\n",
    "writer_ssim = pd.ExcelWriter(path_ssim, engine=\"xlsxwriter\")\n",
    "\n",
    "# new_data_ssim = pd.DataFrame()\n",
    "# new_data_psnr = pd.DataFrame()\n",
    "\n",
    "# folders = glob.glob(f'result/layers_{model_name}*')\n",
    "folders = [\"report/layers_DnCNN10\", \"report/layers_DnResnet10\"]\n",
    "\n",
    "\n",
    "for folder in folders:\n",
    "    if folder.split(\".\")[-1] != \"xlsx\":\n",
    "        paths = glob.glob(f\"{folder}*test_*.xlsx\")\n",
    "        for path in paths:\n",
    "            if \"ssim\" in path:\n",
    "                print(path)\n",
    "                df_ssim = pd.read_excel(path)\n",
    "                df_ssim.to_excel(\n",
    "                    writer_ssim, sheet_name=folder.split(\"_\")[-1], index=False\n",
    "                )\n",
    "            else:\n",
    "                print(path)\n",
    "                df_psnr = pd.read_excel(path)\n",
    "                df_psnr.to_excel(\n",
    "                    writer_psnr, sheet_name=folder.split(\"_\")[-1], index=False\n",
    "                )\n",
    "\n",
    "    # new_data.to_excel(writer, index=False)\n",
    "writer_psnr.close()\n",
    "writer_ssim.close()"
   ]
  },
  {
   "cell_type": "code",
   "execution_count": null,
   "metadata": {
    "collapsed": false
   },
   "outputs": [],
   "source": []
  }
 ],
 "metadata": {
  "kernelspec": {
   "display_name": "ImageDenoise",
   "language": "python",
   "name": "python3"
  },
  "language_info": {
   "codemirror_mode": {
    "name": "ipython",
    "version": 3
   },
   "file_extension": ".py",
   "mimetype": "text/x-python",
   "name": "python",
   "nbconvert_exporter": "python",
   "pygments_lexer": "ipython3",
   "version": "3.8.16"
  },
  "vscode": {
   "interpreter": {
    "hash": "fa556256b5d6a44a21da710950357aa5959dcedfce4af7b986c69899679eef83"
   }
  }
 },
 "nbformat": 4,
 "nbformat_minor": 0
}
