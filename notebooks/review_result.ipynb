{
 "cells": [
  {
   "cell_type": "code",
   "execution_count": 8,
   "metadata": {
    "collapsed": true,
    "ExecuteTime": {
     "end_time": "2024-02-28T16:54:20.277564Z",
     "start_time": "2024-02-28T16:54:20.264177Z"
    }
   },
   "outputs": [],
   "source": [
    "import os\n",
    "import glob\n",
    "import cv2\n",
    "import numpy as np\n",
    "import matplotlib.pyplot as plt\n",
    "if os.getcwd().split('/')[-1] == \"notebooks\":\n",
    "    %cd ..\n",
    "elif os.getcwd().split('\\\\')[-1] == \"notebooks\":\n",
    "    %cd ..\n",
    "from src.dataset import data_aug, datagenerator, read_npy\n",
    "\n",
    "def show_im(im, figsize=(20, 10)):\n",
    "    plt.figure(figsize=figsize)\n",
    "    if isinstance(im, list):\n",
    "        plt.imshow(np.hstack([i for i in im]), cmap=\"gray\")\n",
    "    else:\n",
    "        plt.imshow(im, cmap=\"gray\")\n",
    "    plt.show()\n",
    "\n",
    "origin_folder = 'data/train'\n",
    "os.makedirs(os.path.join(\"report/LV_ThS_TuPhuongNguyen/paper\", \"origin_train\"), exist_ok=True)"
   ]
  },
  {
   "cell_type": "code",
   "execution_count": 9,
   "outputs": [],
   "source": [
    "origin_paths = glob.glob(f\"{origin_folder}/*.npy\")"
   ],
   "metadata": {
    "collapsed": false,
    "ExecuteTime": {
     "end_time": "2024-02-28T16:54:20.600422Z",
     "start_time": "2024-02-28T16:54:20.591678Z"
    }
   }
  },
  {
   "cell_type": "code",
   "execution_count": 10,
   "outputs": [],
   "source": [
    "for i, path in enumerate(origin_paths):\n",
    "    output = read_npy(path).clip(0,255).astype(np.uint8)\n",
    "    cv2.imwrite(os.path.join(\"report/LV_ThS_TuPhuongNguyen/paper\", \"origin_train\", f\"{os.path.basename(path).replace('.npy', '')}.png\"), output)"
   ],
   "metadata": {
    "collapsed": false,
    "ExecuteTime": {
     "end_time": "2024-02-28T16:54:22.028419Z",
     "start_time": "2024-02-28T16:54:21.425530Z"
    }
   }
  },
  {
   "cell_type": "code",
   "execution_count": 14,
   "outputs": [],
   "source": [
    "# sigmas = [10,25,35,45,55]\n",
    "# for j, noise_folder in enumerate(noise_folders):\n",
    "#     paths = glob.glob(f\"{noise_folder}/*.npy\")\n",
    "#     for i, path in enumerate(paths):\n",
    "#         output = read_npy(path).clip(0,255).astype(np.uint8)\n",
    "#         cv2.imwrite(os.path.join(\"report\", \"images\", \"LuanVan\",\"noise\",f\"sigma{sigmas[j]}\",f\"{i}.png\"), output)"
   ],
   "metadata": {
    "collapsed": false
   }
  },
  {
   "cell_type": "code",
   "execution_count": null,
   "outputs": [],
   "source": [],
   "metadata": {
    "collapsed": false
   }
  }
 ],
 "metadata": {
  "kernelspec": {
   "display_name": "Python 3",
   "language": "python",
   "name": "python3"
  },
  "language_info": {
   "codemirror_mode": {
    "name": "ipython",
    "version": 2
   },
   "file_extension": ".py",
   "mimetype": "text/x-python",
   "name": "python",
   "nbconvert_exporter": "python",
   "pygments_lexer": "ipython2",
   "version": "2.7.6"
  }
 },
 "nbformat": 4,
 "nbformat_minor": 0
}
