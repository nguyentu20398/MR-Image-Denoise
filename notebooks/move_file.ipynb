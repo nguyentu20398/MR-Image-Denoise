{
 "cells": [
  {
   "cell_type": "code",
   "execution_count": 1,
   "metadata": {
    "collapsed": true,
    "pycharm": {
     "name": "#%%\n"
    }
   },
   "outputs": [],
   "source": [
    "import os, glob, shutil"
   ]
  },
  {
   "cell_type": "code",
   "execution_count": 4,
   "metadata": {
    "collapsed": false,
    "pycharm": {
     "name": "#%%\n"
    }
   },
   "outputs": [],
   "source": [
    "folders = glob.glob(r\"data_origin/synBrain*\")\n",
    "folders\n",
    "os.makedirs(\"data\", exist_ok=True)\n",
    "os.makedirs(\"data/test\", exist_ok=True)\n",
    "os.makedirs(\"data/train\", exist_ok=True)\n",
    "os.makedirs(\"data/val\", exist_ok=True)"
   ]
  },
  {
   "cell_type": "code",
   "execution_count": 5,
   "metadata": {
    "collapsed": false,
    "pycharm": {
     "name": "#%%\n"
    }
   },
   "outputs": [
    {
     "data": {
      "text/plain": [
       "[1,\n",
       " 9,\n",
       " 17,\n",
       " 25,\n",
       " 33,\n",
       " 41,\n",
       " 49,\n",
       " 57,\n",
       " 65,\n",
       " 73,\n",
       " 81,\n",
       " 89,\n",
       " 97,\n",
       " 105,\n",
       " 113,\n",
       " 121,\n",
       " 129,\n",
       " 137,\n",
       " 145,\n",
       " 153]"
      ]
     },
     "execution_count": 5,
     "metadata": {},
     "output_type": "execute_result"
    }
   ],
   "source": [
    "id_test_images = [i * 8 + 1 for i in range(20)]\n",
    "id_test_images"
   ]
  },
  {
   "cell_type": "code",
   "execution_count": 6,
   "metadata": {
    "collapsed": false,
    "pycharm": {
     "name": "#%%\n"
    }
   },
   "outputs": [],
   "source": [
    "for folder in folders:\n",
    "    folder_name = folder.split(\"/\")[-1]\n",
    "    for id_test in id_test_images:\n",
    "        filename = str(id_test) + folder_name + \".npy\"\n",
    "        src_path = os.path.join(folder, filename)\n",
    "        dst_path = os.path.join(\"data\", \"test\", filename)\n",
    "        shutil.move(src_path, dst_path)"
   ]
  },
  {
   "cell_type": "code",
   "execution_count": 7,
   "metadata": {
    "collapsed": false,
    "pycharm": {
     "name": "#%%\n"
    }
   },
   "outputs": [
    {
     "data": {
      "text/plain": [
       "[4,\n",
       " 8,\n",
       " 12,\n",
       " 16,\n",
       " 20,\n",
       " 24,\n",
       " 28,\n",
       " 32,\n",
       " 36,\n",
       " 40,\n",
       " 44,\n",
       " 48,\n",
       " 52,\n",
       " 56,\n",
       " 60,\n",
       " 64,\n",
       " 68,\n",
       " 72,\n",
       " 76,\n",
       " 80,\n",
       " 84,\n",
       " 88,\n",
       " 92,\n",
       " 96,\n",
       " 100,\n",
       " 104,\n",
       " 108,\n",
       " 112]"
      ]
     },
     "execution_count": 7,
     "metadata": {},
     "output_type": "execute_result"
    }
   ],
   "source": [
    "id_val_images = [i * 4 for i in range(1, 29)]\n",
    "id_val_images"
   ]
  },
  {
   "cell_type": "code",
   "execution_count": 14,
   "metadata": {
    "collapsed": false,
    "pycharm": {
     "name": "#%%\n"
    }
   },
   "outputs": [],
   "source": [
    "for folder in folders:\n",
    "    folder_name = folder.split(\"/\")[-1]\n",
    "    for id_val in id_val_images:\n",
    "        filename = str(id_val) + folder_name + \".npy\"\n",
    "        src_path = os.path.join(folder, filename)\n",
    "        dst_path = os.path.join(\"data\", \"val\", filename)\n",
    "        shutil.move(src_path, dst_path)"
   ]
  },
  {
   "cell_type": "code",
   "execution_count": 15,
   "metadata": {
    "collapsed": false,
    "pycharm": {
     "name": "#%%\n"
    }
   },
   "outputs": [],
   "source": [
    "for folder in folders:\n",
    "    folder_name = folder.split(\"/\")[-1]\n",
    "    for path in glob.glob(folder + r\"/*.npy\"):\n",
    "        filename = path.split(\"/\")[-1]\n",
    "        src_path = path\n",
    "        dst_path = os.path.join(\"data\", \"train\", filename)\n",
    "        shutil.move(path, dst_path)"
   ]
  },
  {
   "cell_type": "code",
   "execution_count": null,
   "metadata": {
    "collapsed": false,
    "pycharm": {
     "name": "#%%\n"
    }
   },
   "outputs": [],
   "source": []
  }
 ],
 "metadata": {
  "kernelspec": {
   "display_name": "image-denoise",
   "language": "python",
   "name": "python3"
  },
  "language_info": {
   "codemirror_mode": {
    "name": "ipython",
    "version": 3
   },
   "file_extension": ".py",
   "mimetype": "text/x-python",
   "name": "python",
   "nbconvert_exporter": "python",
   "pygments_lexer": "ipython3",
   "version": "3.7.9"
  },
  "vscode": {
   "interpreter": {
    "hash": "403623d38294d2ccdd6fac6b24a44c1cd6755d7b438becf4b28bc5cf91cdfe78"
   }
  }
 },
 "nbformat": 4,
 "nbformat_minor": 0
}
