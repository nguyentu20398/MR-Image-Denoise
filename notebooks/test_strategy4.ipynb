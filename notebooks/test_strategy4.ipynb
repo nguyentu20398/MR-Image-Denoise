{
 "cells": [
  {
   "cell_type": "code",
   "metadata": {
    "collapsed": true,
    "ExecuteTime": {
     "end_time": "2024-03-10T12:14:01.886907Z",
     "start_time": "2024-03-10T12:14:01.881441Z"
    }
   },
   "source": [
    "import os\n",
    "\n",
    "if \"script\" in os.getcwd():\n",
    "    os.chdir(\"..\")\n",
    "if \"notebooks\" in os.getcwd():\n",
    "    os.chdir(\"..\")\n",
    "print(os.getcwd())\n",
    "import warnings\n",
    "warnings.filterwarnings(\"ignore\")\n",
    "\n",
    "import torch\n",
    "import cv2\n",
    "import numpy as np\n",
    "import matplotlib.pyplot as plt\n",
    "from loguru import logger\n",
    "from tqdm import tqdm\n",
    "\n",
    "\n",
    "# torch.manual_seed(1234)\n",
    "# np.random.seed(1234)\n",
    "\n",
    "cuda = torch.cuda.is_available()\n",
    "device = torch.device(\"cuda:0\" if torch.cuda.is_available() else \"cpu\")\n",
    "logger.info(f\"Device : {device}\")\n",
    "\n",
    "def show_im(im, figsize=(20, 10)):\n",
    "    plt.figure(figsize=figsize)\n",
    "    if isinstance(im, list):\n",
    "        plt.imshow(np.hstack([i for i in im]), cmap=\"gray\")\n",
    "    else:\n",
    "        plt.imshow(im, cmap=\"gray\")\n",
    "    plt.show()\n",
    "\n",
    "\n",
    "def show_multi_im(imgs: list, ratio=(5, 12), figsize=(20, 10)):\n",
    "    index = 0\n",
    "    f, axarr = plt.subplots(ratio[0], ratio[1], figsize=figsize)\n",
    "    for r in range(ratio[0]):\n",
    "        for c in range(ratio[1]):\n",
    "\n",
    "            axarr[r, c].imshow(imgs[index], cmap=\"gray\")\n",
    "            index += 1\n",
    "    plt.show()\n",
    "\n",
    "def get_infor(data, lib=\"torch\"):\n",
    "    lib = torch if lib == \"torch\" else np\n",
    "    return f\"Max: {lib.max(data)} - Min: {lib.min(data)}\""
   ],
   "outputs": [
    {
     "name": "stdout",
     "output_type": "stream",
     "text": [
      "/home/nguyentu/Documents/ThacSi/ImageDenoise\n"
     ]
    }
   ],
   "execution_count": 6
  },
  {
   "cell_type": "code",
   "source": [
    "from script.demo_inference_configs import strategy_configs, sigmas\n",
    "from script.demo_inference_functions import initialize_model, create_data, DemoUI"
   ],
   "metadata": {
    "collapsed": false,
    "ExecuteTime": {
     "end_time": "2024-03-10T12:14:03.600689Z",
     "start_time": "2024-03-10T12:14:03.597923Z"
    }
   },
   "outputs": [],
   "execution_count": 7
  },
  {
   "cell_type": "code",
   "source": [
    "strategy_configs = {\n",
    "    \"4\": {\n",
    "        \"model\": [\"dnresnet\"],\n",
    "        \"model_configs\": {\n",
    "            \"layers\": 10,\n",
    "            \"input_channels\": 2,\n",
    "            \"out_channels\": 1,\n",
    "            \"feature\": 192,\n",
    "            \"weigth_path\": \"result/layers_dnresnet10_Falseclip_Truenormalize_sigrange10_10_image_withMap/model_040.pth\",\n",
    "        },\n",
    "        \"range_sigma\": sigmas,\n",
    "        \"step\": 5,\n",
    "        \"data_path\": \"data\",\n",
    "        \"n_workers\": 8,\n",
    "        \"batch_size\": 1,\n",
    "        \"normalize\": True,\n",
    "        \"clip\": False,\n",
    "        \"device\": 'cuda:0',\n",
    "        \"output_mode\": 'image',\n",
    "        \"with_map\": True\n",
    "    },\n",
    "}\n"
   ],
   "metadata": {
    "collapsed": false,
    "ExecuteTime": {
     "end_time": "2024-03-10T12:14:04.285017Z",
     "start_time": "2024-03-10T12:14:04.282237Z"
    }
   },
   "outputs": [],
   "execution_count": 8
  },
  {
   "cell_type": "code",
   "source": [
    "import glob\n",
    "data_paths = glob.glob(f\"data/test/origin/*.npy\")"
   ],
   "metadata": {
    "collapsed": false,
    "ExecuteTime": {
     "end_time": "2024-03-10T12:14:04.783705Z",
     "start_time": "2024-03-10T12:14:04.781479Z"
    }
   },
   "outputs": [],
   "execution_count": 9
  },
  {
   "cell_type": "code",
   "source": [
    "demo_ui = DemoUI(configs=strategy_configs)"
   ],
   "metadata": {
    "collapsed": false,
    "ExecuteTime": {
     "end_time": "2024-03-10T12:14:05.438491Z",
     "start_time": "2024-03-10T12:14:05.283817Z"
    }
   },
   "outputs": [],
   "execution_count": 10
  },
  {
   "cell_type": "code",
   "source": [
    "saved_folder=\"report/LV_ThS_TuPhuongNguyen/paper2\"\n",
    "os.makedirs(saved_folder, exist_ok=True)"
   ],
   "metadata": {
    "collapsed": false,
    "ExecuteTime": {
     "end_time": "2024-03-10T12:14:06.698464Z",
     "start_time": "2024-03-10T12:14:06.696043Z"
    }
   },
   "outputs": [],
   "execution_count": 11
  },
  {
   "cell_type": "code",
   "source": [
    "sigmas = [10, 35, 55]\n",
    "noise_map_sigmas = [i*5 for i in range(15)]"
   ],
   "metadata": {
    "collapsed": false,
    "ExecuteTime": {
     "end_time": "2024-03-10T12:14:08.065620Z",
     "start_time": "2024-03-10T12:14:08.061236Z"
    }
   },
   "outputs": [
    {
     "data": {
      "text/plain": [
       "[0, 5, 10, 15, 20, 25, 30, 35, 40, 45, 50, 55, 60, 65, 70]"
      ]
     },
     "execution_count": 12,
     "metadata": {},
     "output_type": "execute_result"
    }
   ],
   "execution_count": 12
  },
  {
   "cell_type": "code",
   "source": [
    "import pandas as pd\n",
    "\n",
    "sigma_values = []\n",
    "psnr_values = []\n",
    "ssim_values = []\n",
    "image_paths = []\n",
    "origin_folder = f\"{saved_folder}/origin\"\n",
    "os.makedirs(origin_folder,exist_ok=True)\n",
    "\n",
    "for sigma in sigmas:\n",
    "    sigma_folder = f\"{saved_folder}/sigma_{sigma}\"  \n",
    "    os.makedirs(sigma_folder,exist_ok=True)\n",
    "    logger.success(f\"---------------SIGMA={sigma}---------------\")\n",
    "    for data_path in tqdm(data_paths, desc=f\"Sigma {sigma}\"):\n",
    "        for noise_map_sigma in noise_map_sigmas:\n",
    "            number_data_path = os.path.basename(data_path)\n",
    "            demo_ui.run(number_data_path=number_data_path, sigma=sigma, run_flag=True, create_image=False, create_noise_map=True, noise_map_sigma = noise_map_sigma)\n",
    "            result = demo_ui.get_result()\n",
    "            ori_image = result[\"image\"][\"Original\"]\n",
    "            noise_image = result[\"image\"][\"Noise\"]\n",
    "            denoise_image = result[\"image\"][\"Strategy4\"]\n",
    "    \n",
    "            psnr = result[\"psnr\"][\"Strategy4\"]\n",
    "            ssim = result[\"ssim\"][\"Strategy4\"]\n",
    "            image_path = os.path.basename(data_path).replace(\".npy\", \".png\")\n",
    "            sigma_values.append(sigma)\n",
    "            psnr_values.append(psnr)\n",
    "            ssim_values.append(ssim)\n",
    "            image_paths.append(image_path)\n",
    "    \n",
    "            cv2.imwrite(f\"{origin_folder}/{image_path}\", ori_image)\n",
    "            cv2.imwrite(f\"{sigma_folder}/{image_path}\".replace(\".png\", \"_noise.png\"), noise_image)\n",
    "            cv2.imwrite(f\"{sigma_folder}/map_{noise_map_sigma}_{image_path}\".replace(\".png\", \"_denoise.png\"), denoise_image)\n",
    "\n",
    "# Create a DataFrame to store the data\n",
    "df = pd.DataFrame({\n",
    "    'Sigma': sigma_values,\n",
    "    'PSNR': psnr_values,\n",
    "    'SSIM': ssim_values,\n",
    "    'Image_Path': image_paths\n",
    "})\n",
    "\n",
    "# Save the DataFrame to an Excel file\n",
    "df.to_excel(f\"{saved_folder}/metrics_results.xlsx\", index=False)"
   ],
   "metadata": {
    "collapsed": false
   },
   "outputs": [],
   "execution_count": null
  }
 ],
 "metadata": {
  "kernelspec": {
   "display_name": "Python 3",
   "language": "python",
   "name": "python3"
  },
  "language_info": {
   "codemirror_mode": {
    "name": "ipython",
    "version": 2
   },
   "file_extension": ".py",
   "mimetype": "text/x-python",
   "name": "python",
   "nbconvert_exporter": "python",
   "pygments_lexer": "ipython2",
   "version": "2.7.6"
  }
 },
 "nbformat": 4,
 "nbformat_minor": 0
}
